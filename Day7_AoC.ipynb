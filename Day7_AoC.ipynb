{
 "cells": [
  {
   "cell_type": "code",
   "execution_count": null,
   "metadata": {},
   "outputs": [],
   "source": [
    "\"\"\"\n",
    "--- Day 7: Handy Haversacks ---\n",
    "You land at the regional airport in time for your next flight. In fact, it \n",
    "looks like you'll even have time to grab some food: all flights are \n",
    "currently delayed due to issues in luggage processing.\n",
    "\n",
    "Due to recent aviation regulations, many rules (your puzzle input) are \n",
    "being enforced about bags and their contents; bags must be color-coded and \n",
    "must contain specific quantities of other color-coded bags. Apparently, \n",
    "nobody responsible for these regulations considered how long they would \n",
    "take to enforce!\n",
    "\n",
    "For example, consider the following rules:\n",
    "\n",
    "light red bags contain 1 bright white bag, 2 muted yellow bags.\n",
    "dark orange bags contain 3 bright white bags, 4 muted yellow bags.\n",
    "bright white bags contain 1 shiny gold bag.\n",
    "muted yellow bags contain 2 shiny gold bags, 9 faded blue bags.\n",
    "shiny gold bags contain 1 dark olive bag, 2 vibrant plum bags.\n",
    "dark olive bags contain 3 faded blue bags, 4 dotted black bags.\n",
    "vibrant plum bags contain 5 faded blue bags, 6 dotted black bags.\n",
    "faded blue bags contain no other bags.\n",
    "dotted black bags contain no other bags.\n",
    "These rules specify the required contents for 9 bag types. In this example, \n",
    "every faded blue bag is empty, every vibrant plum bag contains 11 bags (5 faded \n",
    "blue and 6 dotted black), and so on.\n",
    "\n",
    "You have a shiny gold bag. If you wanted to carry it in at least one other bag, \n",
    "how many different bag colors would be valid for the outermost bag? (In other \n",
    "words: how many colors can, eventually, contain at least one shiny gold bag?)\n",
    "\n",
    "In the above rules, the following options would be available to you:\n",
    "\n",
    "A bright white bag, which can hold your shiny gold bag directly.\n",
    "A muted yellow bag, which can hold your shiny gold bag directly, plus some other bags.\n",
    "A dark orange bag, which can hold bright white and muted yellow bags, either of which \n",
    "could then hold your shiny gold bag.\n",
    "A light red bag, which can hold bright white and muted yellow bags, either of which \n",
    "could then hold your shiny gold bag.\n",
    "So, in this example, the number of bag colors that can eventually contain at least \n",
    "one shiny gold bag is 4.\n",
    "\n",
    "How many bag colors can eventually contain at least one shiny gold bag? \n",
    "(The list of rules is quite long; make sure you get all of it.)\n",
    "\"\"\""
   ]
  },
  {
   "cell_type": "code",
   "execution_count": 1,
   "metadata": {},
   "outputs": [
    {
     "name": "stdout",
     "output_type": "stream",
     "text": [
      "Items: 594\n",
      "dark maroon bags contain 2 striped silver bags, 4 mirrored maroon bags, 5 shiny gold bags, 1 dotted gold bag.\n",
      "vibrant olive bags contain 3 muted turquoise bags, 5 wavy blue bags, 1 dotted silver bag, 5 striped tan bags.\n"
     ]
    }
   ],
   "source": [
    "## puzzle input\n",
    "\n",
    "inp_loc = './day_7_input.txt'\n",
    "\n",
    "puzzle_input = []\n",
    "with open(inp_loc, 'r') as txtfile:\n",
    "    for line in txtfile:\n",
    "        puzzle_input.append(line.rstrip())\n",
    "\n",
    "print('Items:', len(puzzle_input))\n",
    "\n",
    "print(puzzle_input[0])\n",
    "\n",
    "print(puzzle_input[-1])"
   ]
  },
  {
   "cell_type": "code",
   "execution_count": 8,
   "metadata": {},
   "outputs": [
    {
     "name": "stdout",
     "output_type": "stream",
     "text": [
      "4\n",
      "144\n",
      "144\n"
     ]
    }
   ],
   "source": [
    "## horrible manual recursion for part 1\n",
    "\n",
    "split_bag_list = []\n",
    "for i in puzzle_input:\n",
    "    split_bag_list.append(i.split(' contain '))\n",
    "    \n",
    "contain_shiny_gold = []\n",
    "for B in split_bag_list:\n",
    "    if 'shiny gold' in B[1]:\n",
    "        contain_shiny_gold.append(B[0].split(' bags')[0])\n",
    "        \n",
    "print(len(contain_shiny_gold))\n",
    "\n",
    "for i in contain_shiny_gold:\n",
    "    for B in split_bag_list:\n",
    "        if i in B[1]:\n",
    "            if B[0].split(' bags')[0] not in contain_shiny_gold:\n",
    "                contain_shiny_gold.append(B[0].split(' bags')[0])\n",
    "            \n",
    "print(len(contain_shiny_gold))\n",
    "\n",
    "for i in contain_shiny_gold:\n",
    "    for B in split_bag_list:\n",
    "        if i in B[1]:\n",
    "            if B[0].split(' bags')[0] not in contain_shiny_gold:\n",
    "                contain_shiny_gold.append(B[0].split(' bags')[0])\n",
    "            \n",
    "print(len(contain_shiny_gold))"
   ]
  },
  {
   "cell_type": "code",
   "execution_count": null,
   "metadata": {},
   "outputs": [],
   "source": [
    "\"\"\"\n",
    "--- Part Two ---\n",
    "It's getting pretty expensive to fly these days - not because of ticket \n",
    "prices, but because of the ridiculous number of bags you need to buy!\n",
    "\n",
    "Consider again your shiny gold bag and the rules from the above example:\n",
    "\n",
    "faded blue bags contain 0 other bags.\n",
    "dotted black bags contain 0 other bags.\n",
    "vibrant plum bags contain 11 other bags: 5 faded blue bags and 6 dotted black bags.\n",
    "dark olive bags contain 7 other bags: 3 faded blue bags and 4 dotted black bags.\n",
    "So, a single shiny gold bag must contain 1 dark olive bag (and the 7 bags within it) \n",
    "plus 2 vibrant plum bags (and the 11 bags within each of those): 1 + 1*7 + 2 + 2*11 = 32 bags!\n",
    "\n",
    "Of course, the actual rules have a small chance of going several levels deeper \n",
    "than this example; be sure to count all of the bags, even if the nesting becomes \n",
    "topologically impractical!\n",
    "\n",
    "Here's another example:\n",
    "\n",
    "shiny gold bags contain 2 dark red bags.\n",
    "dark red bags contain 2 dark orange bags.\n",
    "dark orange bags contain 2 dark yellow bags.\n",
    "dark yellow bags contain 2 dark green bags.\n",
    "dark green bags contain 2 dark blue bags.\n",
    "dark blue bags contain 2 dark violet bags.\n",
    "dark violet bags contain no other bags.\n",
    "In this example, a single shiny gold bag must contain 126 other bags.\n",
    "\n",
    "How many individual bags are required inside your single shiny gold bag?\n",
    "\"\"\""
   ]
  },
  {
   "cell_type": "code",
   "execution_count": 27,
   "metadata": {},
   "outputs": [],
   "source": [
    "# make a dictionary of bag rules\n",
    "\n",
    "bag_rules = {}\n",
    "\n",
    "for i in puzzle_input:\n",
    "    first_split = i.split(' contain ')\n",
    "    inner_dict = {}\n",
    "    strips = [' bags', ' bag', '.']\n",
    "    for S in strips:\n",
    "        first_split[1] = first_split[1].replace(S,'')\n",
    "    first_split[1] = first_split[1].split(', ')\n",
    "    for V in first_split[1]:\n",
    "        V = V.split(' ', 1)\n",
    "        try:\n",
    "            num = int(V[0])\n",
    "            color = V[1]\n",
    "        except ValueError:\n",
    "            num = 0\n",
    "            color = 'None'\n",
    "        inner_dict[color] = num\n",
    "    \n",
    "    key = first_split[0].replace(' bags','')\n",
    "    bag_rules[key] = inner_dict\n",
    "    "
   ]
  },
  {
   "cell_type": "code",
   "execution_count": 82,
   "metadata": {},
   "outputs": [],
   "source": [
    "# recursive bag counter function\n",
    "\n",
    "# example of dictionary entry:\n",
    "#-- ('dark maroon', {'striped silver': 2, 'mirrored maroon': 4, 'shiny gold': 5, 'dotted gold': 1})\n",
    "# empty bag entry:\n",
    "#-- ('posh salmon', {'None': 0})\n",
    "\n",
    "def bag_count(color, bag_rules):\n",
    "    current_dict = bag_rules[color]\n",
    "    \n",
    "    counter = sum(current_dict.values())\n",
    "    \n",
    "    for keys, vals in current_dict.items():\n",
    "        if 'None' not in keys:\n",
    "            for N in range(vals):\n",
    "                count = bag_count(keys, bag_rules)\n",
    "                counter += count\n",
    "    return counter"
   ]
  },
  {
   "cell_type": "code",
   "execution_count": 84,
   "metadata": {},
   "outputs": [
    {
     "name": "stdout",
     "output_type": "stream",
     "text": [
      "5956\n"
     ]
    }
   ],
   "source": [
    "## answer for part 2\n",
    "\n",
    "ans2 = bag_count('shiny gold', bag_rules)\n",
    "print(ans2)"
   ]
  },
  {
   "cell_type": "code",
   "execution_count": 83,
   "metadata": {},
   "outputs": [
    {
     "name": "stdout",
     "output_type": "stream",
     "text": [
      "126\n"
     ]
    }
   ],
   "source": [
    "## test case, answer should be 126\n",
    "\n",
    "tst_input = \"\"\"shiny gold bags contain 2 dark red bags.\n",
    "dark red bags contain 2 dark orange bags.\n",
    "dark orange bags contain 2 dark yellow bags.\n",
    "dark yellow bags contain 2 dark green bags.\n",
    "dark green bags contain 2 dark blue bags.\n",
    "dark blue bags contain 2 dark violet bags.\n",
    "dark violet bags contain no other bags.\n",
    "In this example, a single shiny gold bag must contain 126 other bags.\"\"\"\n",
    "\n",
    "tst_input = tst_input.split('\\n')\n",
    "\n",
    "# making a dictionary\n",
    "tst_bag_rules = {}\n",
    "for i in tst_input:\n",
    "    first_split = i.split(' contain ')\n",
    "    inner_dict = {}\n",
    "    strips = [' bags', ' bag', '.']\n",
    "    for S in strips:\n",
    "        first_split[1] = first_split[1].replace(S,'')\n",
    "    first_split[1] = first_split[1].split(', ')\n",
    "    for V in first_split[1]:\n",
    "        V = V.split(' ', 1)\n",
    "        try:\n",
    "            num = int(V[0])\n",
    "            color = V[1]\n",
    "        except ValueError:\n",
    "            num = 0\n",
    "            color = 'None'\n",
    "        inner_dict[color] = num\n",
    "    \n",
    "    key = first_split[0].replace(' bags','')\n",
    "    tst_bag_rules[key] = inner_dict\n",
    "\n",
    "    \n",
    "# calling function to answer test case (should be 126)\n",
    "tst_ans = bag_count('shiny gold', tst_bag_rules)\n",
    "print(tst_ans)"
   ]
  }
 ],
 "metadata": {
  "kernelspec": {
   "display_name": "Python 3",
   "language": "python",
   "name": "python3"
  },
  "language_info": {
   "codemirror_mode": {
    "name": "ipython",
    "version": 3
   },
   "file_extension": ".py",
   "mimetype": "text/x-python",
   "name": "python",
   "nbconvert_exporter": "python",
   "pygments_lexer": "ipython3",
   "version": "3.7.6"
  }
 },
 "nbformat": 4,
 "nbformat_minor": 4
}
