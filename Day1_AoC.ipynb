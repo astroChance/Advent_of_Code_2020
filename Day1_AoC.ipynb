{
 "cells": [
  {
   "cell_type": "markdown",
   "metadata": {},
   "source": [
    "## Day 1\n",
    "\n",
    "--- Day 1: Report Repair ---\n",
    "After saving Christmas five years in a row, you've decided to take a vacation at a nice resort on a tropical island. Surely, Christmas will go on without you.\n",
    "\n",
    "The tropical island has its own currency and is entirely cash-only. The gold coins used there have a little picture of a starfish; the locals just call them stars. None of the currency exchanges seem to have heard of them, but somehow, you'll need to find fifty of these coins by the time you arrive so you can pay the deposit on your room.\n",
    "\n",
    "To save your vacation, you need to get all fifty stars by December 25th.\n",
    "\n",
    "Collect stars by solving puzzles. Two puzzles will be made available on each day in the Advent calendar; the second puzzle is unlocked when you complete the first. Each puzzle grants one star. Good luck!\n",
    "\n",
    "Before you leave, the Elves in accounting just need you to fix your expense report (your puzzle input); apparently, something isn't quite adding up.\n",
    "\n",
    "Specifically, they need you to find the two entries that sum to 2020 and then multiply those two numbers together.\n",
    "\n",
    "For example, suppose your expense report contained the following:  \n",
    "\n",
    "1721  \n",
    "979  \n",
    "366  \n",
    "299  \n",
    "675  \n",
    "1456  \n",
    "In this list, the two entries that sum to 2020 are 1721 and 299. Multiplying them together produces 1721 * 299 = 514579, so the correct answer is 514579.\n",
    "\n",
    "Of course, your expense report is much larger. Find the two entries that sum to 2020; what do you get if you multiply them together?"
   ]
  },
  {
   "cell_type": "code",
   "execution_count": 1,
   "metadata": {},
   "outputs": [],
   "source": [
    "import numpy as np\n",
    "import time\n",
    "import itertools"
   ]
  },
  {
   "cell_type": "code",
   "execution_count": 4,
   "metadata": {},
   "outputs": [
    {
     "name": "stdout",
     "output_type": "stream",
     "text": [
      "(200,)\n"
     ]
    }
   ],
   "source": [
    "## puzzle input\n",
    "\n",
    "inp_loc = './day_1_input.txt'\n",
    "\n",
    "puzzle_input = np.loadtxt(inp_loc)\n",
    "\n",
    "print(puzzle_input.shape)"
   ]
  },
  {
   "cell_type": "code",
   "execution_count": 8,
   "metadata": {},
   "outputs": [
    {
     "name": "stdout",
     "output_type": "stream",
     "text": [
      "Result numbers are 83 and 93\n",
      "Result numbers are 93 and 83\n",
      "Solution took 0.02496647834777832 seconds\n"
     ]
    }
   ],
   "source": [
    "# Solution 1 - simple horrible nested loop\n",
    "\n",
    "start = time.time()\n",
    "\n",
    "\n",
    "for i in range(len(puzzle_input)):\n",
    "    for j in range(len(puzzle_input)):\n",
    "        if puzzle_input[i] + puzzle_input[j] == 2020:\n",
    "            print(\"Result numbers are {} and {}\".format(i,j))\n",
    "\n",
    "end = time.time()\n",
    "print('Solution took {} seconds'.format(end-start))"
   ]
  },
  {
   "cell_type": "code",
   "execution_count": 14,
   "metadata": {},
   "outputs": [
    {
     "name": "stdout",
     "output_type": "stream",
     "text": [
      "(1353.0, 667.0)\n",
      "Solution took 0.012964963912963867 seconds\n"
     ]
    }
   ],
   "source": [
    "# Solution 2 - using itertools\n",
    "\n",
    "start = time.time()\n",
    "\n",
    "for i in itertools.combinations(puzzle_input, 2):\n",
    "    if sum(i) == 2020:\n",
    "        print(i)\n",
    "\n",
    "\n",
    "end = time.time()\n",
    "print('Solution took {} seconds'.format(end-start))"
   ]
  },
  {
   "cell_type": "code",
   "execution_count": 19,
   "metadata": {},
   "outputs": [
    {
     "name": "stdout",
     "output_type": "stream",
     "text": [
      "[(1353.0, 667.0)]\n",
      "902451.0\n"
     ]
    }
   ],
   "source": [
    "# Make function from faster solution\n",
    "\n",
    "def find_sum_matches(arr, match_target, combo_num=2):\n",
    "    \"\"\"\n",
    "    Takes a 1-D array or list and finds combination of \n",
    "    values that sum to match target. Defaults to using \n",
    "    combination of 2 values\n",
    "    \"\"\"\n",
    "    matches = []\n",
    "    for i in itertools.combinations(arr, combo_num):\n",
    "        if sum(i) == match_target:\n",
    "            matches.append(i)\n",
    "    return matches\n",
    "\n",
    "\n",
    "Day1_Inputs = find_sum_matches(puzzle_input, 2020)\n",
    "print(Day1_Inputs)\n",
    "\n",
    "Day1_Answer = Day1_Inputs[0][0] * Day1_Inputs[0][1]\n",
    "print(Day1_Answer)"
   ]
  },
  {
   "cell_type": "code",
   "execution_count": 20,
   "metadata": {},
   "outputs": [
    {
     "name": "stdout",
     "output_type": "stream",
     "text": [
      "514579\n"
     ]
    }
   ],
   "source": [
    "## test case\n",
    "\n",
    "tst_lst = [1721,979,366,299,675,1456]\n",
    "\n",
    "tst_inputs = find_sum_matches(tst_lst, 2020)\n",
    "tst_answer = tst_inputs[0][0]*tst_inputs[0][1]\n",
    "\n",
    "print(tst_answer)"
   ]
  },
  {
   "cell_type": "markdown",
   "metadata": {},
   "source": [
    "--- Part Two ---\n",
    "The Elves in accounting are thankful for your help; one of them even offers you a starfish coin they had left over from a past vacation. They offer you a second one if you can find three numbers in your expense report that meet the same criteria.\n",
    "\n",
    "Using the above example again, the three entries that sum to 2020 are 979, 366, and 675. Multiplying them together produces the answer, 241861950.\n",
    "\n",
    "In your expense report, what is the product of the three entries that sum to 2020?"
   ]
  },
  {
   "cell_type": "code",
   "execution_count": 22,
   "metadata": {},
   "outputs": [
    {
     "name": "stdout",
     "output_type": "stream",
     "text": [
      "[(979, 366, 675)]\n",
      "241861950\n"
     ]
    }
   ],
   "source": [
    "## test case\n",
    "\n",
    "tst_lst = [1721,979,366,299,675,1456]\n",
    "\n",
    "tst_inputs = find_sum_matches(tst_lst, 2020, combo_num=3)\n",
    "print(tst_inputs)\n",
    "\n",
    "print(np.prod(tst_inputs))\n"
   ]
  },
  {
   "cell_type": "code",
   "execution_count": 23,
   "metadata": {},
   "outputs": [
    {
     "name": "stdout",
     "output_type": "stream",
     "text": [
      "[(143.0, 407.0, 1470.0)]\n",
      "85555470.0\n"
     ]
    }
   ],
   "source": [
    "## Answering Part 2\n",
    "\n",
    "Pt2_Inputs = find_sum_matches(puzzle_input, 2020, combo_num=3)\n",
    "print(Pt2_Inputs)\n",
    "Pt2_Answer = np.prod(Pt2_Inputs)\n",
    "print(Pt2_Answer)"
   ]
  }
 ],
 "metadata": {
  "kernelspec": {
   "display_name": "geocomp",
   "language": "python",
   "name": "geocomp"
  },
  "language_info": {
   "codemirror_mode": {
    "name": "ipython",
    "version": 3
   },
   "file_extension": ".py",
   "mimetype": "text/x-python",
   "name": "python",
   "nbconvert_exporter": "python",
   "pygments_lexer": "ipython3",
   "version": "3.8.3"
  }
 },
 "nbformat": 4,
 "nbformat_minor": 4
}
