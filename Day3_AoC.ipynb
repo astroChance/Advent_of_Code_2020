{
 "cells": [
  {
   "cell_type": "markdown",
   "metadata": {},
   "source": [
    "--- Day 3: Toboggan Trajectory ---\n",
    "With the toboggan login problems resolved, you set off toward the airport. While travel by toboggan might be easy, it's certainly not safe: there's very minimal steering and the area is covered in trees. You'll need to see which angles will take you near the fewest trees.\n",
    "\n",
    "Due to the local geology, trees in this area only grow on exact integer coordinates in a grid. You make a map (your puzzle input) of the open squares (.) and trees (#) you can see. For example:\n",
    "\n",
    "..##.......  \n",
    "#...#...#..  \n",
    ".#....#..#.  \n",
    "..#.#...#.#  \n",
    ".#...##..#.  \n",
    "..#.##.....  \n",
    ".#.#.#....#  \n",
    ".#........#  \n",
    "#.##...#...  \n",
    "#...##....#  \n",
    ".#..#...#.#  \n",
    "\n",
    "These aren't the only trees, though; due to something you read about once involving arboreal genetics and biome stability, the same pattern repeats to the right many times:\n",
    "\n",
    "..##.........##.........##.........##.........##.........##.......  --->  \n",
    "#...#...#..#...#...#..#...#...#..#...#...#..#...#...#..#...#...#..  \n",
    ".#....#..#..#....#..#..#....#..#..#....#..#..#....#..#..#....#..#.  \n",
    "..#.#...#.#..#.#...#.#..#.#...#.#..#.#...#.#..#.#...#.#..#.#...#.#  \n",
    ".#...##..#..#...##..#..#...##..#..#...##..#..#...##..#..#...##..#.  \n",
    "..#.##.......#.##.......#.##.......#.##.......#.##.......#.##.....  --->  \n",
    ".#.#.#....#.#.#.#....#.#.#.#....#.#.#.#....#.#.#.#....#.#.#.#....#  \n",
    ".#........#.#........#.#........#.#........#.#........#.#........#  \n",
    "#.##...#...#.##...#...#.##...#...#.##...#...#.##...#...#.##...#...  \n",
    "#...##....##...##....##...##....##...##....##...##....##...##....#  \n",
    ".#..#...#.#.#..#...#.#.#..#...#.#.#..#...#.#.#..#...#.#.#..#...#.#  --->  \n",
    "\n",
    "\n",
    "You start on the open square (.) in the top-left corner and need to reach the bottom (below the bottom-most row on your map).\n",
    "\n",
    "The toboggan can only follow a few specific slopes (you opted for a cheaper model that prefers rational numbers); start by counting all the trees you would encounter for the slope right 3, down 1:\n",
    "\n",
    "From your starting position at the top-left, check the position that is right 3 and down 1. Then, check the position that is right 3 and down 1 from there, and so on until you go past the bottom of the map.\n",
    "\n",
    "The locations you'd check in the above example are marked here with O where there was an open square and X where there was a tree:\n",
    "\n",
    "..##.........##.........##.........##.........##.........##.......  --->  \n",
    "#..O#...#..#...#...#..#...#...#..#...#...#..#...#...#..#...#...#..  \n",
    ".#....X..#..#....#..#..#....#..#..#....#..#..#....#..#..#....#..#.  \n",
    "..#.#...#O#..#.#...#.#..#.#...#.#..#.#...#.#..#.#...#.#..#.#...#.#  \n",
    ".#...##..#..X...##..#..#...##..#..#...##..#..#...##..#..#...##..#.  \n",
    "..#.##.......#.X#.......#.##.......#.##.......#.##.......#.##.....  --->  \n",
    ".#.#.#....#.#.#.#.O..#.#.#.#....#.#.#.#....#.#.#.#....#.#.#.#....#  \n",
    ".#........#.#........X.#........#.#........#.#........#.#........#  \n",
    "#.##...#...#.##...#...#.X#...#...#.##...#...#.##...#...#.##...#...  \n",
    "#...##....##...##....##...#X....##...##....##...##....##...##....#  \n",
    ".#..#...#.#.#..#...#.#.#..#...X.#.#..#...#.#.#..#...#.#.#..#...#.#  --->  \n",
    "\n",
    "\n",
    "In this example, traversing the map using this slope would cause you to encounter 7 trees.\n",
    "\n",
    "Starting at the top-left corner of your map and following a slope of right 3 and down 1, how many trees would you encounter?"
   ]
  },
  {
   "cell_type": "code",
   "execution_count": 3,
   "metadata": {},
   "outputs": [],
   "source": [
    "import numpy as np\n",
    "import re\n",
    "import math"
   ]
  },
  {
   "cell_type": "code",
   "execution_count": 2,
   "metadata": {},
   "outputs": [
    {
     "name": "stdout",
     "output_type": "stream",
     "text": [
      "Items: 323\n",
      ".............#...#....#.....##.\n",
      ".#...##..##.#.........#.##...#.\n"
     ]
    }
   ],
   "source": [
    "## puzzle input\n",
    "\n",
    "inp_loc = './day_3_input.txt'\n",
    "\n",
    "puzzle_input = []\n",
    "with open(inp_loc, 'r') as txtfile:\n",
    "    for line in txtfile:\n",
    "        puzzle_input.append(line.rstrip())\n",
    "\n",
    "print('Items:', len(puzzle_input))\n",
    "\n",
    "print(puzzle_input[0])\n",
    "\n",
    "print(puzzle_input[-1])"
   ]
  },
  {
   "cell_type": "code",
   "execution_count": 91,
   "metadata": {},
   "outputs": [],
   "source": [
    "## let's turn this into a binary numpy array\n",
    "## 0: open, 1: tree\n",
    "\n",
    "trees_array = np.zeros((len(puzzle_input), len(puzzle_input[0])))\n",
    "\n",
    "for i in range(trees_array.shape[0]):\n",
    "    tree_locs = [j.start() for j in re.finditer('#', puzzle_input[i])]\n",
    "    trees_array[i, tree_locs] = 1\n",
    "    \n",
    "    \n",
    "## Now make a function to return how many trees hit\n",
    "\n",
    "def tree_finder(tree_arr, start_x = 0, slope_x = 1, slope_y = 1):\n",
    "    \"\"\"\n",
    "    Takes a binary numpy array and returns index\n",
    "    locations where the defined slope encounters\n",
    "    a `1`. Defaults to identity slope\n",
    "    \n",
    "    Additionally, expand array (axis=1) enough times\n",
    "    to complete slope through bottom row\n",
    "    \"\"\"\n",
    "    tot_columns = tree_arr.shape[0] * slope_x + start_x\n",
    "    tiles = math.ceil(tot_columns/tree_arr.shape[1])\n",
    "    tree_arr_expand = np.tile(tree_arr, tiles)\n",
    "    \n",
    "    tree_locations = []\n",
    "    \n",
    "    for i in range(math.ceil(tree_arr_expand.shape[0]/slope_y)):\n",
    "        loc0 = i * slope_y\n",
    "        loc1 = i * slope_x\n",
    "        if tree_arr_expand[loc0, loc1] == 1:\n",
    "            tree_locations.append(tuple((loc0, loc1)))\n",
    "            \n",
    "    return tree_locations"
   ]
  },
  {
   "cell_type": "code",
   "execution_count": 92,
   "metadata": {},
   "outputs": [
    {
     "name": "stdout",
     "output_type": "stream",
     "text": [
      "167\n"
     ]
    }
   ],
   "source": [
    "## get answer for part 1\n",
    "\n",
    "tree_locs = tree_finder(trees_array, start_x = 0, slope_x = 3, slope_y = 1)\n",
    "\n",
    "# abswer equals how many trees are in my returned list\n",
    "print(len(tree_locs))"
   ]
  },
  {
   "cell_type": "markdown",
   "metadata": {},
   "source": [
    "--- Part Two ---\n",
    "Time to check the rest of the slopes - you need to minimize the probability of a sudden arboreal stop, after all.\n",
    "\n",
    "Determine the number of trees you would encounter if, for each of the following slopes, you start at the top-left corner and traverse the map all the way to the bottom:\n",
    "\n",
    "Right 1, down 1.  \n",
    "Right 3, down 1. (This is the slope you already checked.)  \n",
    "Right 5, down 1.  \n",
    "Right 7, down 1.  \n",
    "Right 1, down 2.  \n",
    "\n",
    "\n",
    "In the above example, these slopes would find 2, 7, 3, 4, and 2 tree(s) respectively; multiplied together, these produce the answer 336.\n",
    "\n",
    "What do you get if you multiply together the number of trees encountered on each of the listed slopes?"
   ]
  },
  {
   "cell_type": "code",
   "execution_count": 95,
   "metadata": {},
   "outputs": [
    {
     "name": "stdout",
     "output_type": "stream",
     "text": [
      "The number of trees encountered are 53, 167, 54, 67, and 23\n",
      "736527114\n"
     ]
    }
   ],
   "source": [
    "## get answer for part 2\n",
    "\n",
    "run1 = tree_finder(trees_array, start_x = 0, slope_x = 1, slope_y = 1)\n",
    "run2 = tree_finder(trees_array, start_x = 0, slope_x = 3, slope_y = 1)\n",
    "run3 = tree_finder(trees_array, start_x = 0, slope_x = 5, slope_y = 1)\n",
    "run4 = tree_finder(trees_array, start_x = 0, slope_x = 7, slope_y = 1)\n",
    "run5 = tree_finder(trees_array, start_x = 0, slope_x = 1, slope_y = 2)\n",
    "\n",
    "trees1 = len(run1)\n",
    "trees2 = len(run2)\n",
    "trees3 = len(run3)\n",
    "trees4 = len(run4)\n",
    "trees5 = len(run5)\n",
    "\n",
    "print('The number of trees encountered are {}, {}, {}, {}, and {}'.format(trees1, trees2, trees3, trees4, trees5))\n",
    "\n",
    "ans2 = trees1*trees2*trees3*trees4*trees5\n",
    "print(ans2)\n",
    "\n",
    "# trees_arr = [trees1, trees2, trees3, trees4, trees5]\n",
    "# print(np.product(trees_arr))\n",
    "# trees_arr = np.array(trees_arr, dtype=np.float64)\n",
    "# print(np.product(trees_arr))"
   ]
  },
  {
   "cell_type": "code",
   "execution_count": 93,
   "metadata": {},
   "outputs": [
    {
     "name": "stdout",
     "output_type": "stream",
     "text": [
      "[[0. 0. 1. 1. 0. 0. 0. 0. 0. 0. 0.]\n",
      " [1. 0. 0. 0. 1. 0. 0. 0. 1. 0. 0.]\n",
      " [0. 1. 0. 0. 0. 0. 1. 0. 0. 1. 0.]\n",
      " [0. 0. 1. 0. 1. 0. 0. 0. 1. 0. 1.]\n",
      " [0. 1. 0. 0. 0. 1. 1. 0. 0. 1. 0.]\n",
      " [0. 0. 1. 0. 1. 1. 0. 0. 0. 0. 0.]\n",
      " [0. 1. 0. 1. 0. 1. 0. 0. 0. 0. 1.]\n",
      " [0. 1. 0. 0. 0. 0. 0. 0. 0. 0. 1.]\n",
      " [1. 0. 1. 1. 0. 0. 0. 1. 0. 0. 0.]\n",
      " [1. 0. 0. 0. 1. 1. 0. 0. 0. 0. 1.]\n",
      " [0. 1. 0. 0. 1. 0. 0. 0. 1. 0. 1.]]\n",
      "The number of trees encountered are 2, 7, 3, 4, and 2\n",
      "336.0\n"
     ]
    }
   ],
   "source": [
    "# test case\n",
    "\n",
    "tst_trees = ['..##.......', '#...#...#..', '.#....#..#.','..#.#...#.#','.#...##..#.','..#.##.....',\n",
    "            '.#.#.#....#', '.#........#', '#.##...#...', '#...##....#', '.#..#...#.#']\n",
    "\n",
    "tst_array = np.zeros((len(tst_trees), len(tst_trees[0])))\n",
    "\n",
    "for i in range(tst_array.shape[0]):\n",
    "    tree_locs = [j.start() for j in re.finditer('#', tst_trees[i])]\n",
    "    tst_array[i, tree_locs] = 1\n",
    "    \n",
    "print(tst_array)\n",
    "\n",
    "tst1 = tree_finder(tst_array, start_x = 0, slope_x = 1, slope_y = 1)\n",
    "tst2 = tree_finder(tst_array, start_x = 0, slope_x = 3, slope_y = 1)\n",
    "tst3 = tree_finder(tst_array, start_x = 0, slope_x = 5, slope_y = 1)\n",
    "tst4 = tree_finder(tst_array, start_x = 0, slope_x = 7, slope_y = 1)\n",
    "tst5 = tree_finder(tst_array, start_x = 0, slope_x = 1, slope_y = 2) \n",
    "\n",
    "print('The number of trees encountered are {}, {}, {}, {}, and {}'.format(len(tst1), len(tst2), len(tst3), len(tst4), len(tst5)))\n",
    "\n",
    "tst_trees = np.array([len(tst1), len(tst2), len(tst3), len(tst4), len(tst5)], dtype=np.float64)\n",
    "tst_ans = np.prod(tst_trees)\n",
    "print(tst_ans)"
   ]
  }
 ],
 "metadata": {
  "kernelspec": {
   "display_name": "Python 3",
   "language": "python",
   "name": "python3"
  },
  "language_info": {
   "codemirror_mode": {
    "name": "ipython",
    "version": 3
   },
   "file_extension": ".py",
   "mimetype": "text/x-python",
   "name": "python",
   "nbconvert_exporter": "python",
   "pygments_lexer": "ipython3",
   "version": "3.8.3"
  }
 },
 "nbformat": 4,
 "nbformat_minor": 4
}
