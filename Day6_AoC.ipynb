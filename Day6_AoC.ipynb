{
 "cells": [
  {
   "cell_type": "code",
   "execution_count": null,
   "metadata": {},
   "outputs": [],
   "source": [
    "\"\"\"\n",
    "--- Day 6: Custom Customs ---\n",
    "As your flight approaches the regional airport where you'll switch to\n",
    "a much larger plane, customs declaration forms are distributed to the passengers.\n",
    "\n",
    "The form asks a series of 26 yes-or-no questions marked a through z. \n",
    "All you need to do is identify the questions for which anyone in your\n",
    "group answers \"yes\". Since your group is just you, this doesn't take very long.\n",
    "\n",
    "However, the person sitting next to you seems to be experiencing a \n",
    "language barrier and asks if you can help. For each of the people in \n",
    "their group, you write down the questions for which they answer \"yes\",\n",
    "one per line. For example:\n",
    "\n",
    "abcx\n",
    "abcy\n",
    "abcz\n",
    "In this group, there are 6 questions to which anyone answered \"yes\": a, b, c, x, y, and z.\n",
    "(Duplicate answers to the same question don't count extra; each question counts at most once.)\n",
    "\n",
    "Another group asks for your help, then another, and eventually you've collected \n",
    "answers from every group on the plane (your puzzle input). Each group's answers \n",
    "are separated by a blank line, and within each group, each person's answers are on\n",
    "a single line. For example:\n",
    "\n",
    "abc\n",
    "\n",
    "a\n",
    "b\n",
    "c\n",
    "\n",
    "ab\n",
    "ac\n",
    "\n",
    "a\n",
    "a\n",
    "a\n",
    "a\n",
    "\n",
    "b\n",
    "This list represents answers from five groups:\n",
    "\n",
    "The first group contains one person who answered \"yes\" to 3 questions: a, b, and c.\n",
    "The second group contains three people; combined, they answered \"yes\" to 3 questions: a, b, and c.\n",
    "The third group contains two people; combined, they answered \"yes\" to 3 questions: a, b, and c.\n",
    "The fourth group contains four people; combined, they answered \"yes\" to only 1 question, a.\n",
    "The last group contains one person who answered \"yes\" to only 1 question, b.\n",
    "In this example, the sum of these counts is 3 + 3 + 3 + 1 + 1 = 11.\n",
    "\n",
    "For each group, count the number of questions to which anyone answered \"yes\". What is the sum of those counts?\n",
    "\"\"\""
   ]
  },
  {
   "cell_type": "code",
   "execution_count": 3,
   "metadata": {},
   "outputs": [],
   "source": [
    "import copy"
   ]
  },
  {
   "cell_type": "code",
   "execution_count": 2,
   "metadata": {},
   "outputs": [
    {
     "name": "stdout",
     "output_type": "stream",
     "text": [
      "459\n",
      "nefaym\n",
      "eynamf\n",
      "eafnmy\n",
      "afnmey\n",
      "\n",
      "ayhkusp\n",
      "pkhysua\n",
      "upkahys\n",
      "kpyhuanvsd\n",
      "\n"
     ]
    }
   ],
   "source": [
    "## puzzle input\n",
    "\n",
    "inp_loc = './day_6_input.txt'\n",
    "\n",
    "\n",
    "with open(inp_loc, 'r') as txtfile:\n",
    "    content = txtfile.read()\n",
    "    entries = content.split('\\n\\n')\n",
    "\n",
    "print(len(entries))\n",
    "print(entries[0])\n",
    "print()\n",
    "print(entries[-1])"
   ]
  },
  {
   "cell_type": "code",
   "execution_count": 16,
   "metadata": {},
   "outputs": [],
   "source": [
    "## helper function for question 1\n",
    "\n",
    "def get_unique_answers(entry):\n",
    "    \"\"\"\n",
    "    Takes a string as input, returns how many unique\n",
    "    characters in that string\n",
    "    \"\"\"\n",
    "    entry = entry.replace('\\n', '')\n",
    "    \n",
    "    return(len(set(entry)))"
   ]
  },
  {
   "cell_type": "code",
   "execution_count": 20,
   "metadata": {},
   "outputs": [
    {
     "name": "stdout",
     "output_type": "stream",
     "text": [
      "6259\n"
     ]
    }
   ],
   "source": [
    "## answer 1\n",
    "\n",
    "answers = 0\n",
    "\n",
    "for E in entries:\n",
    "    tmp = get_unique_answers(E)\n",
    "    answers += tmp\n",
    "    \n",
    "print(answers)"
   ]
  },
  {
   "cell_type": "code",
   "execution_count": null,
   "metadata": {},
   "outputs": [],
   "source": [
    "\"\"\"\n",
    "--- Part Two ---\n",
    "As you finish the last group's customs declaration, you notice that \n",
    "you misread one word in the instructions:\n",
    "\n",
    "You don't need to identify the questions to which anyone answered \"yes\";\n",
    "you need to identify the questions to which everyone answered \"yes\"!\n",
    "\n",
    "Using the same example as above:\n",
    "\n",
    "abc\n",
    "\n",
    "a\n",
    "b\n",
    "c\n",
    "\n",
    "ab\n",
    "ac\n",
    "\n",
    "a\n",
    "a\n",
    "a\n",
    "a\n",
    "\n",
    "b\n",
    "This list represents answers from five groups:\n",
    "\n",
    "In the first group, everyone (all 1 person) answered \"yes\" to 3 \n",
    "questions: a, b, and c.\n",
    "In the second group, there is no question to which everyone answered \"yes\".\n",
    "In the third group, everyone answered yes to only 1 question, a. Since \n",
    "some people did not answer \"yes\" to b or c, they don't count.\n",
    "In the fourth group, everyone answered yes to only 1 question, a.\n",
    "In the fifth group, everyone (all 1 person) answered \"yes\" to 1 question, b.\n",
    "In this example, the sum of these counts is 3 + 0 + 1 + 1 + 1 = 6.\n",
    "\n",
    "For each group, count the number of questions to which everyone answered \n",
    "\"yes\". What is the sum of those counts?\n",
    "\"\"\""
   ]
  },
  {
   "cell_type": "code",
   "execution_count": 59,
   "metadata": {},
   "outputs": [],
   "source": [
    "## helper function for question 2\n",
    "\n",
    "def get_consistent_answers(entry):\n",
    "    \"\"\"\n",
    "    Accepts string input, returns the number of\n",
    "    consistent string characters for each sub-entry\n",
    "    \"\"\"\n",
    "    \n",
    "    working_list = entry.strip('\\n').split('\\n')\n",
    "    if len(working_list) == 1:\n",
    "        return len(working_list[0])\n",
    "    else:\n",
    "        for i in range(len(working_list)):\n",
    "            if i != len(working_list)-1:\n",
    "                if working_list[i] == working_list[0]:\n",
    "                    tmp = set(working_list[i]).intersection(set(working_list[i+1]))\n",
    "                else:\n",
    "                    tmp = tmp.intersection(set(working_list[i+1]))\n",
    "                        \n",
    "        return(len(tmp))"
   ]
  },
  {
   "cell_type": "code",
   "execution_count": 64,
   "metadata": {},
   "outputs": [
    {
     "name": "stdout",
     "output_type": "stream",
     "text": [
      "1\n"
     ]
    }
   ],
   "source": [
    "tst8 = get_consistent_answers(entries[2])\n",
    "print(tst8)"
   ]
  },
  {
   "cell_type": "code",
   "execution_count": 62,
   "metadata": {},
   "outputs": [
    {
     "name": "stdout",
     "output_type": "stream",
     "text": [
      "3179\n"
     ]
    }
   ],
   "source": [
    "## answer 2\n",
    "\n",
    "answers_pt2 = 0\n",
    "\n",
    "for E in entries:\n",
    "    ans = get_consistent_answers(E)\n",
    "    answers_pt2 += ans\n",
    "    \n",
    "print(answers_pt2)\n",
    "\n",
    "\"\"\"\n",
    "Correct answer for part 2 is 3178 - current solution\n",
    "is off-by-one\n",
    "\"\"\""
   ]
  }
 ],
 "metadata": {
  "kernelspec": {
   "display_name": "Python 3",
   "language": "python",
   "name": "python3"
  },
  "language_info": {
   "codemirror_mode": {
    "name": "ipython",
    "version": 3
   },
   "file_extension": ".py",
   "mimetype": "text/x-python",
   "name": "python",
   "nbconvert_exporter": "python",
   "pygments_lexer": "ipython3",
   "version": "3.7.6"
  }
 },
 "nbformat": 4,
 "nbformat_minor": 4
}
