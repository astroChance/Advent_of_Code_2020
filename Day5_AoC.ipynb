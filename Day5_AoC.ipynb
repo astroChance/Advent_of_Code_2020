{
 "cells": [
  {
   "cell_type": "code",
   "execution_count": null,
   "metadata": {},
   "outputs": [],
   "source": [
    "\"\"\"\n",
    "--- Day 5: Binary Boarding ---\n",
    "You board your plane only to discover a new problem: you dropped your \n",
    "boarding pass! You aren't sure which seat is yours, and all of the flight \n",
    "attendants are busy with the flood of people that suddenly made it through \n",
    "passport control.\n",
    "\n",
    "You write a quick program to use your phone's camera to scan all of the \n",
    "nearby boarding passes (your puzzle input); perhaps you can find your seat \n",
    "through process of elimination.\n",
    "\n",
    "Instead of zones or groups, this airline uses binary space partitioning \n",
    "to seat people. A seat might be specified like FBFBBFFRLR, where F means \n",
    "\"front\", B means \"back\", L means \"left\", and R means \"right\".\n",
    "\n",
    "The first 7 characters will either be F or B; these specify exactly one \n",
    "of the 128 rows on the plane (numbered 0 through 127). Each letter tells \n",
    "you which half of a region the given seat is in. Start with the whole list \n",
    "of rows; the first letter indicates whether the seat is in the front \n",
    "(0 through 63) or the back (64 through 127). The next letter indicates which\n",
    "half of that region the seat is in, and so on until you're left with exactly one row.\n",
    "\n",
    "For example, consider just the first seven characters of FBFBBFFRLR:\n",
    "\n",
    "Start by considering the whole range, rows 0 through 127.\n",
    "F means to take the lower half, keeping rows 0 through 63.\n",
    "B means to take the upper half, keeping rows 32 through 63.\n",
    "F means to take the lower half, keeping rows 32 through 47.\n",
    "B means to take the upper half, keeping rows 40 through 47.\n",
    "B keeps rows 44 through 47.\n",
    "F keeps rows 44 through 45.\n",
    "The final F keeps the lower of the two, row 44.\n",
    "The last three characters will be either L or R; these specify exactly one\n",
    "of the 8 columns of seats on the plane (numbered 0 through 7). The same process \n",
    "as above proceeds again, this time with only three steps. L means to keep the \n",
    "lower half, while R means to keep the upper half.\n",
    "\n",
    "For example, consider just the last 3 characters of FBFBBFFRLR:\n",
    "\n",
    "Start by considering the whole range, columns 0 through 7.\n",
    "R means to take the upper half, keeping columns 4 through 7.\n",
    "L means to take the lower half, keeping columns 4 through 5.\n",
    "The final R keeps the upper of the two, column 5.\n",
    "So, decoding FBFBBFFRLR reveals that it is the seat at row 44, column 5.\n",
    "\n",
    "Every seat also has a unique seat ID: multiply the row by 8, then add the column. \n",
    "In this example, the seat has ID 44 * 8 + 5 = 357.\n",
    "\n",
    "Here are some other boarding passes:\n",
    "\n",
    "BFFFBBFRRR: row 70, column 7, seat ID 567.\n",
    "FFFBBBFRRR: row 14, column 7, seat ID 119.\n",
    "BBFFBBFRLL: row 102, column 4, seat ID 820.\n",
    "As a sanity check, look through your list of boarding passes. What is the highest \n",
    "seat ID on a boarding pass?\n",
    "\"\"\""
   ]
  },
  {
   "cell_type": "code",
   "execution_count": 4,
   "metadata": {},
   "outputs": [
    {
     "name": "stdout",
     "output_type": "stream",
     "text": [
      "Items: 756\n",
      "BFBFFBBRLR\n",
      "BFFBFFFRLL\n"
     ]
    }
   ],
   "source": [
    "inp_loc = './day_5_input.txt'\n",
    "\n",
    "puzzle_input = []\n",
    "with open(inp_loc, 'r') as txtfile:\n",
    "    for line in txtfile:\n",
    "        puzzle_input.append(line.rstrip())\n",
    "\n",
    "print('Items:', len(puzzle_input))\n",
    "\n",
    "print(puzzle_input[0])\n",
    "\n",
    "print(puzzle_input[-1])"
   ]
  },
  {
   "cell_type": "code",
   "execution_count": 51,
   "metadata": {},
   "outputs": [],
   "source": [
    "## note; designing to start at row 1 for easier math operations,\n",
    "## will need to subtract 1 from output for final answer\n",
    "\n",
    "\n",
    "def divide_rows(inp, row_start_end):\n",
    "    if inp.lower() == 'f':\n",
    "        row_start_output = row_start_end[0]\n",
    "        row_end_output = int(row_start_end[0] + ((row_start_end[1] - row_start_end[0] + 1)/2) - 1)\n",
    "    elif inp.lower() == 'b':\n",
    "        row_start_output = int(row_start_end[0] + ((row_start_end[1] - row_start_end[0] + 1)/2))\n",
    "        row_end_output = row_start_end[1]\n",
    "    else:\n",
    "        print('Invalid input to divide_rows')\n",
    "    \n",
    "    return tuple((row_start_output, row_end_output))\n",
    "\n",
    "def divide_seats(inp, seat_start_end):\n",
    "    if inp.lower() == 'l':\n",
    "        seat_start_output = seat_start_end[0]\n",
    "        seat_end_output = int(seat_start_end[0] + ((seat_start_end[1] - seat_start_end[0] + 1)/2) - 1)\n",
    "    elif inp.lower() == 'r':\n",
    "        seat_start_output = int(seat_start_end[0] + ((seat_start_end[1] - seat_start_end[0] + 1)/2))\n",
    "        seat_end_output = seat_start_end[1]\n",
    "    else:\n",
    "        print('Invalid input given to divide_seats')\n",
    "        \n",
    "    return tuple((seat_start_output, seat_end_output))"
   ]
  },
  {
   "cell_type": "code",
   "execution_count": 54,
   "metadata": {},
   "outputs": [
    {
     "name": "stdout",
     "output_type": "stream",
     "text": [
      "Test row number is 44, test seat number is 5\n",
      "Test seat ID is 357\n"
     ]
    }
   ],
   "source": [
    "## Test Case\n",
    "\n",
    "tst = 'FBFBBFFRLR'\n",
    "\n",
    "row = (1,128)\n",
    "for i in tst[:7]:\n",
    "    row = divide_rows(i, row)\n",
    "\n",
    "seat = (1,8)\n",
    "for i in tst[-3:]:\n",
    "    seat = divide_seats(i, seat)\n",
    "    \n",
    "seat_id = (row[0]-1) * 8 + (seat[0] -1)\n",
    "\n",
    "print(\"Test row number is {}, test seat number is {}\".format(row[0]-1, seat[0]-1))\n",
    "print(\"Test seat ID is {}\".format(seat_id))"
   ]
  },
  {
   "cell_type": "code",
   "execution_count": 55,
   "metadata": {},
   "outputs": [
    {
     "name": "stdout",
     "output_type": "stream",
     "text": [
      "826\n"
     ]
    }
   ],
   "source": [
    "## answer 1\n",
    "\n",
    "seat_ids = []\n",
    "\n",
    "for S in puzzle_input:\n",
    "    \n",
    "    row = (1,128)\n",
    "    for i in S[:7]:\n",
    "        row = divide_rows(i, row)\n",
    "\n",
    "    seat = (1,8)\n",
    "    for i in S[-3:]:\n",
    "        seat = divide_seats(i, seat)\n",
    "\n",
    "    seat_id = (row[0]-1) * 8 + (seat[0] -1)\n",
    "    \n",
    "    seat_ids.append(seat_id)\n",
    "    \n",
    "max_seat_id = max(seat_ids)\n",
    "\n",
    "print(max_seat_id)"
   ]
  },
  {
   "cell_type": "code",
   "execution_count": null,
   "metadata": {},
   "outputs": [],
   "source": [
    "\"\"\"\n",
    "--- Part Two ---\n",
    "Ding! The \"fasten seat belt\" signs have turned on. Time to find your seat.\n",
    "\n",
    "It's a completely full flight, so your seat should be the only missing \n",
    "boarding pass in your list. However, there's a catch: some of the seats \n",
    "at the very front and back of the plane don't exist on this aircraft, \n",
    "so they'll be missing from your list as well.\n",
    "\n",
    "Your seat wasn't at the very front or back, though; the seats with IDs +1 \n",
    "and -1 from yours will be in your list.\n",
    "\n",
    "What is the ID of your seat?\n",
    "\"\"\""
   ]
  },
  {
   "cell_type": "code",
   "execution_count": 60,
   "metadata": {},
   "outputs": [
    {
     "name": "stdout",
     "output_type": "stream",
     "text": [
      "[678]\n"
     ]
    }
   ],
   "source": [
    "## Answer 2\n",
    "\n",
    "print([x for x in range(sorted(seat_ids)[0], sorted(seat_ids)[-1]+1) if x not in seat_ids])"
   ]
  }
 ],
 "metadata": {
  "kernelspec": {
   "display_name": "Python 3",
   "language": "python",
   "name": "python3"
  },
  "language_info": {
   "codemirror_mode": {
    "name": "ipython",
    "version": 3
   },
   "file_extension": ".py",
   "mimetype": "text/x-python",
   "name": "python",
   "nbconvert_exporter": "python",
   "pygments_lexer": "ipython3",
   "version": "3.7.6"
  }
 },
 "nbformat": 4,
 "nbformat_minor": 4
}
