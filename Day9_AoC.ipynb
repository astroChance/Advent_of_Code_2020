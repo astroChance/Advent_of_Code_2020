{
 "cells": [
  {
   "cell_type": "code",
   "execution_count": null,
   "metadata": {},
   "outputs": [],
   "source": [
    "\"\"\"\n",
    "--- Day 9: Encoding Error ---\n",
    "With your neighbor happily enjoying their video game, you turn your \n",
    "attention to an open data port on the little screen in the seat in \n",
    "front of you.\n",
    "\n",
    "Though the port is non-standard, you manage to connect it to your \n",
    "computer through the clever use of several paperclips. Upon connection,\n",
    "the port outputs a series of numbers (your puzzle input).\n",
    "\n",
    "The data appears to be encrypted with the eXchange-Masking Addition System \n",
    "(XMAS) which, conveniently for you, is an old cypher with an important weakness.\n",
    "\n",
    "XMAS starts by transmitting a preamble of 25 numbers. After that, each \n",
    "number you receive should be the sum of any two of the 25 immediately \n",
    "previous numbers. The two numbers will have different values, and there \n",
    "might be more than one such pair.\n",
    "\n",
    "For example, suppose your preamble consists of the numbers 1 through 25 \n",
    "in a random order. To be valid, the next number must be the sum of two \n",
    "of those numbers:\n",
    "\n",
    "26 would be a valid next number, as it could be 1 plus 25 (or many other \n",
    "pairs, like 2 and 24).\n",
    "49 would be a valid next number, as it is the sum of 24 and 25.\n",
    "100 would not be valid; no two of the previous 25 numbers sum to 100.\n",
    "50 would also not be valid; although 25 appears in the previous 25 numbers, \n",
    "the two numbers in the pair must be different.\n",
    "Suppose the 26th number is 45, and the first number (no longer an option, \n",
    "as it is more than 25 numbers ago) was 20. Now, for the next number to be \n",
    "valid, there needs to be some pair of numbers among 1-19, 21-25, or 45 that \n",
    "add up to it:\n",
    "\n",
    "26 would still be a valid next number, as 1 and 25 are still within the previous 25 numbers.\n",
    "65 would not be valid, as no two of the available numbers sum to it.\n",
    "64 and 66 would both be valid, as they are the result of 19+45 and 21+45 respectively.\n",
    "\n",
    "Here is a larger example which only considers the previous 5 numbers (and has a preamble of length 5):\n",
    "\n",
    "35\n",
    "20\n",
    "15\n",
    "25\n",
    "47\n",
    "40\n",
    "62\n",
    "55\n",
    "65\n",
    "95\n",
    "102\n",
    "117\n",
    "150\n",
    "182\n",
    "127\n",
    "219\n",
    "299\n",
    "277\n",
    "309\n",
    "576\n",
    "\n",
    "In this example, after the 5-number preamble, almost every number is the sum of two \n",
    "of the previous 5 numbers; the only number that does not follow this rule is 127.\n",
    "\n",
    "The first step of attacking the weakness in the XMAS data is to find the first number \n",
    "in the list (after the preamble) which is not the sum of two of the 25 numbers before it.\n",
    "What is the first number that does not have this property?\n",
    "\"\"\""
   ]
  },
  {
   "cell_type": "code",
   "execution_count": 1,
   "metadata": {},
   "outputs": [],
   "source": [
    "import numpy as np\n",
    "import itertools"
   ]
  },
  {
   "cell_type": "code",
   "execution_count": 73,
   "metadata": {},
   "outputs": [
    {
     "name": "stdout",
     "output_type": "stream",
     "text": [
      "(1000,)\n",
      "NaN check: False\n"
     ]
    }
   ],
   "source": [
    "## puzzle input\n",
    "\n",
    "inp_loc = './day_9_input.txt'\n",
    "\n",
    "puzzle_input = np.loadtxt(inp_loc)\n",
    "\n",
    "print(puzzle_input.shape)\n",
    "puzzle_input = puzzle_input.astype('int64')\n",
    "\n",
    "print(\"NaN check: {}\".format(np.isnan(np.sum(puzzle_input))))"
   ]
  },
  {
   "cell_type": "code",
   "execution_count": 65,
   "metadata": {},
   "outputs": [],
   "source": [
    "def find_XMAS_flaws(arr, window, elements=2):\n",
    "    \"\"\"\n",
    "    Accepts array-like object.\n",
    "    Searches for n-elements in preceeding window\n",
    "    that add up to current value. Condition: elements\n",
    "    cannot be same value as each other.\n",
    "    \n",
    "    Returns:\n",
    "    Boolean list of length arr[window:]\n",
    "    True: flaw found in encryption\n",
    "    False: passes encryption test\n",
    "    \n",
    "    \"\"\"\n",
    "    flaws = []\n",
    "    \n",
    "    for i in range(len(arr[window:])):\n",
    "        tmp = []\n",
    "    \n",
    "        for C in set(itertools.combinations(arr[i : (window+i)], elements)):\n",
    "            \n",
    "            ## !! logic currently only holds for 2 elements\n",
    "            if int(C[0]) == int(C[1]):\n",
    "                continue\n",
    "            \n",
    "            if ((C[0] + C[1]) == arr[(window+i)]):\n",
    "                tmp.append(False)\n",
    "            else:\n",
    "                tmp.append(True)\n",
    "                \n",
    "        if all(x==True for x in tmp):\n",
    "            flaws.append(True)\n",
    "        else:\n",
    "            flaws.append(False)\n",
    "            \n",
    "    return flaws\n",
    "\n",
    "def get_first_flaw(arr, window, elements=2):\n",
    "    \"\"\"\n",
    "    Return the first value that doesn't meet encryption\n",
    "    \"\"\"\n",
    "    flaws = find_XMAS_flaws(arr=arr, window=window, elements=elements)\n",
    "    \n",
    "    flaw_idxs = [idx for idx, ele in enumerate(flaws) if ele==True]\n",
    "    \n",
    "    try:\n",
    "        first_flaw = arr[flaw_idxs[0]+window]\n",
    "        return first_flaw\n",
    "    except IndexError:\n",
    "        return None"
   ]
  },
  {
   "cell_type": "code",
   "execution_count": 74,
   "metadata": {},
   "outputs": [
    {
     "name": "stdout",
     "output_type": "stream",
     "text": [
      "127\n"
     ]
    }
   ],
   "source": [
    "## test case, answer should be 127\n",
    "\n",
    "tst_arr = np.array([35,20,15,25,47,40,62,55,65,95,102,117,150,182,127,219,299,277,309,576])\n",
    "\n",
    "window = 5\n",
    "\n",
    "# tst_flaws = find_XMAS_flaws(tst_arr, window=window)\n",
    "# print(tst_flaws)\n",
    "\n",
    "tst_answer = get_first_flaw(tst_arr, window=window)\n",
    "print(tst_answer)\n"
   ]
  },
  {
   "cell_type": "code",
   "execution_count": 75,
   "metadata": {},
   "outputs": [
    {
     "name": "stdout",
     "output_type": "stream",
     "text": [
      "22406676\n"
     ]
    }
   ],
   "source": [
    "## answer part 1\n",
    "\n",
    "window=25\n",
    "\n",
    "\n",
    "pt1_ans = get_first_flaw(puzzle_input, window=window)\n",
    "\n",
    "print(pt1_ans)"
   ]
  },
  {
   "cell_type": "code",
   "execution_count": null,
   "metadata": {},
   "outputs": [],
   "source": [
    "\"\"\"\n",
    "--- Part Two ---\n",
    "The final step in breaking the XMAS encryption relies on the invalid number \n",
    "you just found: you must find a contiguous set of at least two numbers in your \n",
    "list which sum to the invalid number from step 1.\n",
    "\n",
    "Again consider the above example:\n",
    "\n",
    "35\n",
    "20\n",
    "15\n",
    "25\n",
    "47\n",
    "40\n",
    "62\n",
    "55\n",
    "65\n",
    "95\n",
    "102\n",
    "117\n",
    "150\n",
    "182\n",
    "127\n",
    "219\n",
    "299\n",
    "277\n",
    "309\n",
    "576\n",
    "In this list, adding up all of the numbers from 15 through 40 produces the \n",
    "invalid number from step 1, 127. (Of course, the contiguous set of numbers \n",
    "in your actual list might be much longer.)\n",
    "\n",
    "To find the encryption weakness, add together the smallest and largest number \n",
    "in this contiguous range; in this example, these are 15 and 47, producing 62.\n",
    "\n",
    "What is the encryption weakness in your XMAS-encrypted list of numbers?\n",
    "\"\"\""
   ]
  },
  {
   "cell_type": "code",
   "execution_count": 84,
   "metadata": {},
   "outputs": [],
   "source": [
    "def find_contiguous_sum_group(target_val, arr, group_min=2):\n",
    "    \"\"\"\n",
    "    Find a contiguous slice of an array that\n",
    "    sums to the target value\n",
    "    \"\"\"\n",
    "    summed_val = None\n",
    "    arr_length = len(arr)\n",
    "    \n",
    "    while summed_val != target_val:\n",
    "        steps = arr_length - group_min + 1\n",
    "        for S in range(steps):\n",
    "            if (S+group_min) != arr_length:\n",
    "                if sum(arr[S:S+group_min]) == target_val:\n",
    "                    summed_val = sum(arr[S:S+group_min])\n",
    "                    summed_arr = arr[S:S+group_min]\n",
    "            else:\n",
    "                if sum(arr[S:]) == target_val:\n",
    "                    summed_val = sum(arr[S:])\n",
    "                    summed_arr = arr[S:]\n",
    "        \n",
    "        group_min += 1\n",
    "        \n",
    "    return summed_arr"
   ]
  },
  {
   "cell_type": "code",
   "execution_count": 85,
   "metadata": {},
   "outputs": [
    {
     "name": "stdout",
     "output_type": "stream",
     "text": [
      "2942387\n"
     ]
    }
   ],
   "source": [
    "## answer 2\n",
    "\n",
    "summed_arr = find_contiguous_sum_group(22406676, puzzle_input)\n",
    "\n",
    "print(np.amin(summed_arr) + np.amax(summed_arr))"
   ]
  }
 ],
 "metadata": {
  "kernelspec": {
   "display_name": "Python 3",
   "language": "python",
   "name": "python3"
  },
  "language_info": {
   "codemirror_mode": {
    "name": "ipython",
    "version": 3
   },
   "file_extension": ".py",
   "mimetype": "text/x-python",
   "name": "python",
   "nbconvert_exporter": "python",
   "pygments_lexer": "ipython3",
   "version": "3.7.6"
  }
 },
 "nbformat": 4,
 "nbformat_minor": 4
}
